{
 "cells": [
  {
   "cell_type": "markdown",
   "metadata": {},
   "source": [
    "<h1>MNIST (dígitos) solución tradicional</h1>"
   ]
  },
  {
   "cell_type": "markdown",
   "metadata": {},
   "source": [
    "<h2>Eileen Guerrero,\n",
    "Santiago Narvaez</h2>"
   ]
  },
  {
   "cell_type": "markdown",
   "metadata": {},
   "source": [
    "Nuestros numeros son: 0 y 3"
   ]
  },
  {
   "cell_type": "code",
   "execution_count": 57,
   "metadata": {},
   "outputs": [],
   "source": [
    "from sklearn.datasets import load_digits\n",
    "import pylab as pl\n",
    "import numpy as np\n",
    "\n",
    "digits = load_digits()\n",
    "digits_label = digits.target"
   ]
  },
  {
   "cell_type": "markdown",
   "metadata": {},
   "source": [
    "Metodo para sacar una matriz promedio."
   ]
  },
  {
   "cell_type": "code",
   "execution_count": 58,
   "metadata": {},
   "outputs": [],
   "source": [
    "def promedioMatriz(number):\n",
    "  numeros_matriz = digits.images[digits_label == number] \n",
    "  promedio = np.average(numeros_matriz, axis=0)\n",
    "  desviacion = np.std(numeros_matriz, axis=0)\n",
    "  return promedio, desviacion"
   ]
  },
  {
   "cell_type": "markdown",
   "metadata": {},
   "source": [
    "Metodo para probar si una matriz es el numero dado."
   ]
  },
  {
   "cell_type": "code",
   "execution_count": 59,
   "metadata": {},
   "outputs": [],
   "source": [
    "def testNumeros(number):\n",
    "  cantidad = 0\n",
    "  for i in range(8):\n",
    "    for j in range(8):\n",
    "      if(number[i][j] >= promedio[i][j] - desviacion[i][j] and number[i][j] <= promedio[i][j] + desviacion[i][j]):\n",
    "        cantidad += 1\n",
    "  return cantidad/64 >= 0.8"
   ]
  },
  {
   "cell_type": "markdown",
   "metadata": {},
   "source": [
    "Metodo para calcular vp y fp | encontrar precision"
   ]
  },
  {
   "cell_type": "code",
   "execution_count": 60,
   "metadata": {},
   "outputs": [],
   "source": [
    "def test(number):\n",
    "  vp = 0\n",
    "  fp = 0\n",
    "  for i in range(len(digits.images)): \n",
    "    tempRes = testNumeros(digits.images[i])\n",
    "    if(tempRes and digits_label[i] == number):\n",
    "      vp += 1\n",
    "    elif(tempRes and digits_label[i] != number):\n",
    "      fp += 1\n",
    "  return vp, fp"
   ]
  },
  {
   "cell_type": "markdown",
   "metadata": {},
   "source": [
    "<h2>Para el caso del 0</h2>"
   ]
  },
  {
   "cell_type": "markdown",
   "metadata": {},
   "source": [
    "Iprimiendo Matrices"
   ]
  },
  {
   "cell_type": "code",
   "execution_count": 61,
   "metadata": {},
   "outputs": [
    {
     "name": "stdout",
     "output_type": "stream",
     "text": [
      "Matriz promedios\n",
      "[[0.00000000e+00 2.24719101e-02 4.18539326e+00 1.30955056e+01\n",
      "  1.12977528e+01 2.92696629e+00 3.37078652e-02 0.00000000e+00]\n",
      " [0.00000000e+00 8.87640449e-01 1.25786517e+01 1.33707865e+01\n",
      "  1.14943820e+01 1.13764045e+01 9.66292135e-01 0.00000000e+00]\n",
      " [0.00000000e+00 3.73033708e+00 1.42752809e+01 5.26404494e+00\n",
      "  2.10112360e+00 1.21685393e+01 3.52247191e+00 0.00000000e+00]\n",
      " [0.00000000e+00 5.29213483e+00 1.27134831e+01 1.99438202e+00\n",
      "  1.40449438e-01 9.06179775e+00 6.44943820e+00 0.00000000e+00]\n",
      " [0.00000000e+00 5.87078652e+00 1.15561798e+01 8.93258427e-01\n",
      "  4.49438202e-02 8.77528090e+00 7.12359551e+00 0.00000000e+00]\n",
      " [0.00000000e+00 3.49438202e+00 1.32865169e+01 1.65168539e+00\n",
      "  1.53370787e+00 1.13089888e+01 5.85393258e+00 0.00000000e+00]\n",
      " [0.00000000e+00 7.97752809e-01 1.30561798e+01 9.96067416e+00\n",
      "  1.03483146e+01 1.32528090e+01 2.41573034e+00 0.00000000e+00]\n",
      " [0.00000000e+00 5.61797753e-03 4.15730337e+00 1.35617978e+01\n",
      "  1.33258427e+01 5.43820225e+00 2.75280899e-01 0.00000000e+00]]\n",
      "--------------------------------------------------------------\n",
      "Matriz de desviacion\n",
      "[[0.         0.2108052  2.93839559 2.24030546 3.40787184 3.22390175\n",
      "  0.18047616 0.        ]\n",
      " [0.         1.7733242  3.36321716 3.09723335 4.01296661 3.42313748\n",
      "  1.88100761 0.        ]\n",
      " [0.         2.59975818 2.54566302 4.86479551 3.18191852 3.36617662\n",
      "  2.67154178 0.        ]\n",
      " [0.         2.43431576 3.20497124 3.4339632  0.57810599 3.56033093\n",
      "  2.2833606  0.        ]\n",
      " [0.         2.18270537 3.31995854 2.19162337 0.33217406 3.736407\n",
      "  2.59783931 0.        ]\n",
      " [0.         2.24421151 2.50212005 3.00225056 2.87208353 3.67347432\n",
      "  3.6212561  0.        ]\n",
      " [0.         1.30409705 2.71433792 3.94536047 4.25348799 3.03502364\n",
      "  3.0787747  0.        ]\n",
      " [0.         0.07474233 2.70828474 2.00815784 2.70984589 3.99002987\n",
      "  0.92866715 0.        ]]\n"
     ]
    },
    {
     "data": {
      "text/plain": [
       "<Figure size 432x288 with 0 Axes>"
      ]
     },
     "metadata": {},
     "output_type": "display_data"
    },
    {
     "data": {
      "image/png": "[encoded data removed]",
      "text/plain": [
       "<Figure size 288x288 with 1 Axes>"
      ]
     },
     "metadata": {
      "needs_background": "light"
     },
     "output_type": "display_data"
    }
   ],
   "source": [
    "promedio, desviacion = promedioMatriz(0);\n",
    "print(\"Matriz promedios\")\n",
    "print(promedio)\n",
    "pl.gray()\n",
    "pl.matshow(promedio)\n",
    "print(\"--------------------------------------------------------------\")\n",
    "print(\"Matriz de desviacion\")\n",
    "print(desviacion)"
   ]
  },
  {
   "cell_type": "code",
   "execution_count": 62,
   "metadata": {},
   "outputs": [],
   "source": [
    "vp,fp = test(0)"
   ]
  },
  {
   "cell_type": "markdown",
   "metadata": {},
   "source": [
    "Mostrando los resultados de precision"
   ]
  },
  {
   "cell_type": "code",
   "execution_count": 63,
   "metadata": {},
   "outputs": [
    {
     "name": "stdout",
     "output_type": "stream",
     "text": [
      "La precision es: 1.0\n"
     ]
    }
   ],
   "source": [
    "precision = (vp/(vp+fp))\n",
    "print (\"La precision es:\", precision)"
   ]
  },
  {
   "cell_type": "markdown",
   "metadata": {},
   "source": [
    "<h2>Para el caso del 3</h2>"
   ]
  },
  {
   "cell_type": "code",
   "execution_count": 64,
   "metadata": {},
   "outputs": [
    {
     "name": "stdout",
     "output_type": "stream",
     "text": [
      "Matriz promedios\n",
      "[[0.00000000e+00 6.44808743e-01 8.38797814e+00 1.41693989e+01\n",
      "  1.42240437e+01 7.48087432e+00 7.86885246e-01 5.46448087e-03]\n",
      " [1.09289617e-02 4.20765027e+00 1.26557377e+01 8.98907104e+00\n",
      "  1.12841530e+01 1.19945355e+01 2.10928962e+00 1.63934426e-02]\n",
      " [5.46448087e-03 2.22404372e+00 3.70491803e+00 3.10928962e+00\n",
      "  1.20273224e+01 9.32240437e+00 8.14207650e-01 0.00000000e+00]\n",
      " [0.00000000e+00 2.95081967e-01 1.45901639e+00 8.93989071e+00\n",
      "  1.42732240e+01 5.60655738e+00 8.19672131e-02 0.00000000e+00]\n",
      " [0.00000000e+00 6.01092896e-02 1.04918033e+00 5.63934426e+00\n",
      "  1.20491803e+01 1.12786885e+01 2.19672131e+00 0.00000000e+00]\n",
      " [0.00000000e+00 4.26229508e-01 1.39890710e+00 9.67213115e-01\n",
      "  4.40983607e+00 1.21366120e+01 6.31693989e+00 0.00000000e+00]\n",
      " [0.00000000e+00 8.68852459e-01 7.11475410e+00 6.22950820e+00\n",
      "  8.26229508e+00 1.30163934e+01 5.92896175e+00 6.55737705e-02]\n",
      " [0.00000000e+00 5.02732240e-01 9.31693989e+00 1.46502732e+01\n",
      "  1.39726776e+01 8.67213115e+00 1.40983607e+00 6.55737705e-02]]\n",
      "--------------------------------------------------------------\n",
      "Matriz de desviacion\n",
      "[[0.         1.05040343 3.7645554  2.27813153 2.45374055 4.87083607\n",
      "  2.13312225 0.07371988]\n",
      " [0.10396884 3.80832371 3.53229555 3.59566994 3.8970523  4.761523\n",
      "  3.56961541 0.16447997]\n",
      " [0.07371988 3.52649163 4.61529032 3.68263849 3.94280377 4.98301933\n",
      "  1.85496389 0.        ]\n",
      " [0.         1.27623416 2.93782811 5.31023283 2.99757534 4.21658975\n",
      "  0.3286875  0.        ]\n",
      " [0.         0.45771348 2.52263781 5.42419026 3.97159132 4.93276482\n",
      "  2.79628758 0.        ]\n",
      " [0.         1.51631221 3.23900391 2.7637419  5.20417145 3.73989327\n",
      "  4.50841198 0.        ]\n",
      " [0.         1.99843171 5.25033965 3.62773218 4.81312518 3.94286436\n",
      "  4.54490437 0.46290314]\n",
      " [0.         1.03951605 4.36930268 2.07985062 2.92797267 4.5678419\n",
      "  2.73438167 0.63251219]]\n"
     ]
    },
    {
     "data": {
      "text/plain": [
       "<Figure size 432x288 with 0 Axes>"
      ]
     },
     "metadata": {},
     "output_type": "display_data"
    },
    {
     "data": {
      "image/png": "[encoded data removed]",
      "text/plain": [
       "<Figure size 288x288 with 1 Axes>"
      ]
     },
     "metadata": {
      "needs_background": "light"
     },
     "output_type": "display_data"
    }
   ],
   "source": [
    "promedio, desviacion = promedioMatriz(3);\n",
    "print(\"Matriz promedios\")\n",
    "print(promedio)\n",
    "pl.gray()\n",
    "pl.matshow(promedio)\n",
    "print(\"--------------------------------------------------------------\")\n",
    "print(\"Matriz de desviacion\")\n",
    "print(desviacion)"
   ]
  },
  {
   "cell_type": "code",
   "execution_count": 65,
   "metadata": {},
   "outputs": [],
   "source": [
    "vp,fp = test(3)"
   ]
  },
  {
   "cell_type": "markdown",
   "metadata": {},
   "source": [
    "Mostrando resultados de precision"
   ]
  },
  {
   "cell_type": "code",
   "execution_count": 66,
   "metadata": {},
   "outputs": [
    {
     "name": "stdout",
     "output_type": "stream",
     "text": [
      "La precision es: 0.7222222222222222\n"
     ]
    }
   ],
   "source": [
    "precision = (vp/(vp+fp))\n",
    "print (\"La precision es:\", precision)"
   ]
  },
  {
   "cell_type": "code",
   "execution_count": null,
   "metadata": {},
   "outputs": [],
   "source": []
  }
 ],
 "metadata": {
  "kernelspec": {
   "display_name": "Python 3",
   "language": "python",
   "name": "python3"
  },
  "language_info": {
   "codemirror_mode": {
    "name": "ipython",
    "version": 3
   },
   "file_extension": ".py",
   "mimetype": "text/x-python",
   "name": "python",
   "nbconvert_exporter": "python",
   "pygments_lexer": "ipython3",
   "version": "3.7.3"
  }
 },
 "nbformat": 4,
 "nbformat_minor": 2
}
